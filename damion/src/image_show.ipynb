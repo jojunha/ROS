{
 "cells": [
  {
   "cell_type": "code",
   "execution_count": 1,
   "id": "29a19af2",
   "metadata": {},
   "outputs": [],
   "source": [
    "import glob\n",
    "import os\n",
    "import numpy as np\n",
    "import cv2\n",
    "from tensorflow.keras.models import load_model\n",
    "from tensorflow.keras.preprocessing.image import array_to_img, img_to_array, load_img"
   ]
  },
  {
   "cell_type": "code",
   "execution_count": 2,
   "id": "8ea8e9dd",
   "metadata": {},
   "outputs": [
    {
     "name": "stdout",
     "output_type": "stream",
     "text": [
      "2.4.0\n"
     ]
    }
   ],
   "source": [
    "import tensorflow as tf\n",
    "\n",
    "print(tf.__version__)"
   ]
  },
  {
   "cell_type": "markdown",
   "id": "f761d5f2",
   "metadata": {},
   "source": [
    "# Show test image and mask"
   ]
  },
  {
   "cell_type": "code",
   "execution_count": 3,
   "id": "61484870",
   "metadata": {},
   "outputs": [],
   "source": [
    "def img_show(img_path, mask_path, model):\n",
    "    img = load_img(img_path, color_mode = \"grayscale\")\n",
    "    mask = load_img(mask_path, color_mode = \"grayscale\")\n",
    "    \n",
    "    origin = cv2.imread(img_path,cv2.IMREAD_COLOR)\n",
    "    origin = cv2.resize(origin, (512, 512))\n",
    "    \n",
    "    \n",
    "    img = img.resize((512,512))\n",
    "    mask = mask.resize((512,512))\n",
    "    \n",
    "    img = img_to_array(img)\n",
    "    mask = img_to_array(mask)\n",
    "    \n",
    "    img.astype('float32')\n",
    "    img = img / 255.0\n",
    "    img = np.expand_dims(img, axis=0)\n",
    "    \n",
    "    pred = model.predict(img)\n",
    "    \n",
    "    pred[pred > 0.5] = 255\n",
    "    pred[pred <= 0.5] = 0\n",
    "    \n",
    "    \n",
    "    cv2.imshow(\"image\",origin)\n",
    "    cv2.imshow(\"pred\",pred[0])\n",
    "    cv2.imshow(\"label\",mask)\n",
    "    \n",
    "    # a를 누르면 종료\n",
    "    if( cv2.waitKey() == ord('a')):\n",
    "        cv2.destroyAllWindows()\n",
    "        return 1\n",
    "    \n",
    "    return 0"
   ]
  },
  {
   "cell_type": "markdown",
   "id": "6bb5c5fc",
   "metadata": {},
   "source": [
    "# Show test vedio"
   ]
  },
  {
   "cell_type": "code",
   "execution_count": 4,
   "id": "90005926",
   "metadata": {},
   "outputs": [],
   "source": [
    "def video_show(video_file, model):\n",
    "    cap = cv2.VideoCapture(video_file)\n",
    "\n",
    "    while(cap.isOpened()):\n",
    "        ret, frame = cap.read()\n",
    "        frame = cv2.cvtColor(frame, cv2.COLOR_BGR2GRAY)\n",
    "        frame = cv2.resize(frame, (512, 512))\n",
    "\n",
    "        img = np.float32(frame)\n",
    "        img = img / 255.0\n",
    "        img = np.expand_dims(img, axis=0)\n",
    "    \n",
    "        pred = model.predict(img)\n",
    "\n",
    "        pred[pred > 0.5] = 255\n",
    "        pred[pred <= 0.5] = 0\n",
    "    \n",
    "        cv2.imshow(\"img\",frame)\n",
    "        cv2.imshow(\"pred\",pred[0])\n",
    "\n",
    "        if cv2.waitKey(1) & 0xFF == ord('a'):\n",
    "            break\n",
    "    cv2.destroyAllWindows()\n",
    "    cap.release()"
   ]
  },
  {
   "cell_type": "markdown",
   "id": "345f1872",
   "metadata": {},
   "source": [
    "# Model"
   ]
  },
  {
   "cell_type": "code",
   "execution_count": 8,
   "id": "77dfb691",
   "metadata": {},
   "outputs": [],
   "source": [
    "def dice_coef(y_true, y_pred):\n",
    "        y_true_f = K.flatten(y_true)\n",
    "        y_pred_f = K.flatten(y_pred)\n",
    "        intersection = K.sum(y_true_f * y_pred_f)\n",
    "        return (2. * intersection + K.epsilon()) / (K.sum(y_true_f) + K.sum(y_pred_f) + K.epsilon())\n",
    "\n",
    "def dice_coef_loss(y_true, y_pred):\n",
    "        return 1-dice_coef(y_true, y_pred)\n",
    "\n",
    "def sens(y_true, y_pred): # sensitivity, recall\n",
    "    print(y_pred)\n",
    "    print(y_true)\n",
    "    y_target_yn = K.round(K.clip(y_true, 0, 1)) # 실제값을 0(Negative) 또는 1(Positive)로 설정한다\n",
    "    y_pred_yn = K.round(K.clip(y_pred, 0, 1)) # 예측값을 0(Negative) 또는 1(Positive)로 설정한다\n",
    "\n",
    "    # True Positive는 실제 값과 예측 값이 모두 1(Positive)인 경우이다\n",
    "    count_true_positive = K.sum(y_target_yn * y_pred_yn) \n",
    "\n",
    "    # (True Positive + False Negative) = 실제 값이 1(Positive) 전체\n",
    "    count_true_positive_false_negative = K.sum(y_target_yn)\n",
    "\n",
    "    # Recall =  (True Positive) / (True Positive + False Negative)\n",
    "    # K.epsilon()는 'divide by zero error' 예방차원에서 작은 수를 더한다\n",
    "    recall = count_true_positive / (count_true_positive_false_negative + K.epsilon())\n",
    "\n",
    "    # return a single tensor value\n",
    "    return recall"
   ]
  },
  {
   "cell_type": "code",
   "execution_count": 9,
   "id": "d92a1bac",
   "metadata": {},
   "outputs": [],
   "source": [
    "model = load_model('C:/Users/s_wnsgk4041/crack_segmentation_dataset/crack_check/final_15_0.150833.hdf5',\n",
    "                                       custom_objects={'sens':sens,'dice_coef_loss': dice_coef_loss})"
   ]
  },
  {
   "cell_type": "markdown",
   "id": "b3cc9eb5",
   "metadata": {},
   "source": [
    "## Image show example"
   ]
  },
  {
   "cell_type": "code",
   "execution_count": 11,
   "id": "a762f8fc",
   "metadata": {},
   "outputs": [],
   "source": [
    "img_path = sorted(glob.glob(\"C:/Users/s_wnsgk4041/crack_segmentation_dataset/test/images/*.jpg\"))\n",
    "mask_path = sorted(glob.glob(\"C:/Users/s_wnsgk4041/crack_segmentation_dataset/test/masks/*.jpg\"))\n",
    "\n",
    "for i in zip(img_path,mask_path):\n",
    "    if (os.path.split(i[0])[1] == os.path.split(i[1])[1]):\n",
    "        key = img_show(i[0],i[1],model)\n",
    "        if(key == 1):\n",
    "            break"
   ]
  },
  {
   "cell_type": "markdown",
   "id": "acb32b24",
   "metadata": {},
   "source": [
    "## Video show example"
   ]
  },
  {
   "cell_type": "code",
   "execution_count": 7,
   "id": "aead1a9c",
   "metadata": {},
   "outputs": [],
   "source": [
    "video_file = 'C:/Users/s_wnsgk4041/20220318_151355.mp4'\n",
    "\n",
    "video_show(video_file, model)"
   ]
  },
  {
   "cell_type": "code",
   "execution_count": null,
   "id": "9775be6e",
   "metadata": {},
   "outputs": [],
   "source": []
  }
 ],
 "metadata": {
  "kernelspec": {
   "display_name": "jo",
   "language": "python",
   "name": "jo"
  },
  "language_info": {
   "codemirror_mode": {
    "name": "ipython",
    "version": 3
   },
   "file_extension": ".py",
   "mimetype": "text/x-python",
   "name": "python",
   "nbconvert_exporter": "python",
   "pygments_lexer": "ipython3",
   "version": "3.7.11"
  }
 },
 "nbformat": 4,
 "nbformat_minor": 5
}
